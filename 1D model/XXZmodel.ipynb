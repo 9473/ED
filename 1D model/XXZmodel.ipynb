{
 "cells": [
  {
   "cell_type": "markdown",
   "metadata": {},
   "source": [
    "下面这一段代码来自\n",
    "https://colab.research.google.com/github/hylu666/hku-physics4150/blob/main/ED/ED_Heisenberg.ipynb#scrollTo=8NGhpc-lSe8m\n",
    "\n",
    "他以$S=1/2$的Heisenberg Model为例，展示了给定基（顺序）下的哈密顿量矩阵的构建过程"
   ]
  },
  {
   "cell_type": "code",
   "execution_count": 91,
   "metadata": {},
   "outputs": [],
   "source": [
    "import numpy as np\n",
    "import scipy as sp\n",
    "from scipy import sparse\n",
    "from scipy import linalg\n",
    "from scipy.sparse import linalg\n",
    "import matplotlib.pyplot as plt"
   ]
  },
  {
   "cell_type": "markdown",
   "metadata": {},
   "source": [
    "# Matrix Construction"
   ]
  },
  {
   "cell_type": "code",
   "execution_count": 9,
   "metadata": {},
   "outputs": [
    {
     "name": "stdout",
     "output_type": "stream",
     "text": [
      "0 : 0000\n",
      "1 : 0001\n",
      "2 : 0010\n",
      "3 : 0011\n",
      "4 : 0100\n",
      "5 : 0101\n",
      "6 : 0110\n",
      "7 : 0111\n",
      "8 : 1000\n",
      "9 : 1001\n",
      "10 : 1010\n",
      "11 : 1011\n",
      "12 : 1100\n",
      "13 : 1101\n",
      "14 : 1110\n",
      "15 : 1111\n"
     ]
    }
   ],
   "source": [
    "N=4\n",
    "dimension=2**N\n",
    "#spin chain with all spin-down\n",
    "z='0'*N\n",
    "\n",
    "for a in range(dimension):\n",
    "    state_chain = bin(a)[2:]  # 将整数a转换为二进制字符串，忽略前两个字符'0b'\n",
    "    length = len(state_chain)\n",
    "    state_chain = z[0:N-length] + state_chain  # 将二进制字符串的长度补齐至N, z='0'*N\n",
    "    print(a,\":\",state_chain)"
   ]
  },
  {
   "cell_type": "markdown",
   "metadata": {},
   "source": [
    "利用二进制数来表示基（以及基的顺序）是自然而然的。"
   ]
  },
  {
   "cell_type": "code",
   "execution_count": 23,
   "metadata": {},
   "outputs": [
    {
     "name": "stdout",
     "output_type": "stream",
     "text": [
      "1 0 1 0\n",
      "0 element_3\n",
      "1 element_2\n",
      "1 + 01 + 0 = 1010\n"
     ]
    }
   ],
   "source": [
    "#check\n",
    "state_chain = bin(10)[2:]\n",
    "print(state_chain[0],state_chain[1],state_chain[2],state_chain[N-1]) #now state_chain is \"1010\"\n",
    "element_3 = state_chain[3]\n",
    "print(element_3,\"element_3\")\n",
    "element_2 = state_chain[2]\n",
    "print(element_2,\"element_2\")\n",
    "state_chain1 = element_2 + state_chain[1:N-1] + element_3\n",
    "print(element_2,\"+\",state_chain[1:N-1],\"+\",element_3,\"=\",state_chain1)\n",
    "#in Python,array[0:N]: index=0,1,...N-1\n",
    "#state_chain has 0~N-1,so state_chain[1:N-1] is index=1,2,...N-2"
   ]
  },
  {
   "cell_type": "markdown",
   "metadata": {},
   "source": [
    "非常有趣的就在于，这个操作效果使得一个新的态是在二进制链的开头和结尾添加了两个元素 element_i 和 element_j.  而且这两个元素是从二进制表示state_chain中提取的，而不能是手动赋值的，手动赋值比如element_3 = 0，这样会导致element_3是十进制下的\"0\"."
   ]
  },
  {
   "cell_type": "code",
   "execution_count": 15,
   "metadata": {},
   "outputs": [
    {
     "name": "stdout",
     "output_type": "stream",
     "text": [
      "101 + 1 + 0 + 0\n",
      "101100\n"
     ]
    }
   ],
   "source": [
    "state_chain1 = state_chain[0:3] + element_2 + element_3 + state_chain[2+1:]\n",
    "print(state_chain[0:3],\"+\",element_2,\"+\",element_3,\"+\",state_chain[2+1:])\n",
    "print(state_chain1)"
   ]
  },
  {
   "cell_type": "code",
   "execution_count": 16,
   "metadata": {},
   "outputs": [
    {
     "name": "stdout",
     "output_type": "stream",
     "text": [
      "10 + 1 + 0 + \n",
      "1001\n"
     ]
    }
   ],
   "source": [
    "state_chain1 = state_chain[0:2] + element_3 + element_2 + state_chain[3+1:]\n",
    "print(state_chain[0:2],\"+\",element_2,\"+\",element_3,\"+\",state_chain[3+1:])\n",
    "print(state_chain1)"
   ]
  },
  {
   "cell_type": "markdown",
   "metadata": {},
   "source": [
    "因此，上面两种加法里第一种给出了错误的结果，是因为加的顺序和state_chain保留的元素位置没对"
   ]
  },
  {
   "cell_type": "code",
   "execution_count": 154,
   "metadata": {},
   "outputs": [],
   "source": [
    "N=4\n",
    "dimension=2**N\n",
    "#spin chain with all spin-down\n",
    "z='0'*N\n",
    "# initialize hamiltonian\n",
    "H=np.zeros((dimension,dimension))\n",
    "\n",
    "for a in range(dimension):\n",
    "    state_chain = bin(a)[2:]  # 将整数a转换为二进制字符串，忽略前两个字符'0b'\n",
    "    length = len(state_chain)\n",
    "    state_chain = z[0:N-length] + state_chain  # 将二进制字符串的长度补齐至N, z='0'*N\n",
    "    \n",
    "    # 对于周期性边界条件(PBC)，设置i在range(N)\n",
    "    # 对于开放边界条件(OBC)，设置i在range(N-1)\n",
    "    for i in range(N):  #In python, i = 0,1,2,...,N-1\n",
    "        j = np.mod(i + 1, N)  # 对于周期性边界条件，计算j时取余\n",
    "        if state_chain[i] == state_chain[j]:  # 自旋平行贡献为+，自旋相反贡献为-\n",
    "            H[a, a] += 0.25  #aa表示哈密顿量的对角元\n",
    "        else:  \n",
    "            H[a, a] -= 0.25\n",
    "            \n",
    "            element_i = state_chain[i] #要么为1要么为0\n",
    "            element_j = state_chain[j] #要么为1要么为0\n",
    "            \n",
    "            # 自旋翻转\n",
    "            if j == 0:\n",
    "                state_chain1 = element_i + state_chain[1:N-1] + element_j\n",
    "            else:\n",
    "                state_chain1 = state_chain[0:i] + element_j + element_i + state_chain[j+1:]\n",
    "            \n",
    "            b = int(state_chain1, 2)\n",
    "            H[a, b] += 0.5"
   ]
  },
  {
   "cell_type": "markdown",
   "metadata": {},
   "source": [
    "虽然还不太明白他自旋翻转这一块儿是怎么实现的。（这里先标记一下）"
   ]
  },
  {
   "cell_type": "markdown",
   "metadata": {},
   "source": [
    "------"
   ]
  },
  {
   "cell_type": "code",
   "execution_count": 38,
   "metadata": {},
   "outputs": [
    {
     "name": "stdout",
     "output_type": "stream",
     "text": [
      "10 >> 1 = 5\n",
      "1010 -> 0101\n"
     ]
    }
   ],
   "source": [
    "'''\n",
    "It's get from http://graphics.stanford.edu/~seander/bithacks.html\n",
    "'''\n",
    "\n",
    "#右移算符 \">>\"\n",
    "what = 10 >> 1\n",
    "print(10,\">>\",1,\"=\",what)\n",
    "print(bin(10)[2:],\"->\",bin(what)[2:])"
   ]
  },
  {
   "cell_type": "code",
   "execution_count": 39,
   "metadata": {},
   "outputs": [
    {
     "name": "stdout",
     "output_type": "stream",
     "text": [
      "10 >> 2 = 2\n",
      "1010 -> 0010\n"
     ]
    }
   ],
   "source": [
    "#右移算符 \">>\"\n",
    "what = 10 >> 2\n",
    "print(10,\">>\",2,\"=\",what)\n",
    "print(bin(10)[2:],\"->\",bin(what)[2:])"
   ]
  },
  {
   "cell_type": "code",
   "execution_count": 40,
   "metadata": {},
   "outputs": [
    {
     "name": "stdout",
     "output_type": "stream",
     "text": [
      "10 >> 3 = 1\n",
      "1010 -> 0001\n"
     ]
    }
   ],
   "source": [
    "#右移算符 \">>\"\n",
    "what = 10 >> 3\n",
    "print(10,\">>\",3,\"=\",what)\n",
    "print(bin(10)[2:],\"->\",bin(what)[2:])"
   ]
  },
  {
   "cell_type": "code",
   "execution_count": 44,
   "metadata": {},
   "outputs": [
    {
     "name": "stdout",
     "output_type": "stream",
     "text": [
      "10 >> 3 = 40\n",
      "1010 -> 101000\n"
     ]
    }
   ],
   "source": [
    "#左移算符 \"<<\"\n",
    "what = 10 << 2\n",
    "print(10,\">>\",3,\"=\",what)\n",
    "print(bin(10)[2:],\"->\",bin(what)[2:])"
   ]
  },
  {
   "cell_type": "code",
   "execution_count": 50,
   "metadata": {},
   "outputs": [
    {
     "name": "stdout",
     "output_type": "stream",
     "text": [
      "0\n",
      "1\n",
      "2 10\n"
     ]
    }
   ],
   "source": [
    "#提取最右边的比特 \"&\"\n",
    "what1 = (10 << 2) & 1\n",
    "print(what1)\n",
    "\n",
    "what2 = (10 >> 3) & 1 #0001 提取最右边的1个bit\n",
    "print(what2)\n",
    "\n",
    "what3 = (10 >> 2) & 2 #0010 提取最右边的2个bit\n",
    "print(what3,bin(what3)[2:])"
   ]
  },
  {
   "cell_type": "code",
   "execution_count": 55,
   "metadata": {},
   "outputs": [
    {
     "name": "stdout",
     "output_type": "stream",
     "text": [
      "16 10000\n"
     ]
    }
   ],
   "source": [
    "1 << 4\n",
    "print((1 << 4),bin(16)[2:])"
   ]
  },
  {
   "cell_type": "code",
   "execution_count": 68,
   "metadata": {},
   "outputs": [
    {
     "name": "stdout",
     "output_type": "stream",
     "text": [
      "2\n",
      "1010 ^ 1000 = 0010\n"
     ]
    }
   ],
   "source": [
    "#逐位异或算符\"^\"\n",
    "print(10^8) #将两个整数的二进制表示逐位异或，相同为0，不同为1\n",
    "print(\"1010\",\"^\",\"1000\" ,\"=\", \"0010\")"
   ]
  },
  {
   "cell_type": "code",
   "execution_count": 69,
   "metadata": {},
   "outputs": [
    {
     "name": "stdout",
     "output_type": "stream",
     "text": [
      "2\n"
     ]
    }
   ],
   "source": [
    "10 ^ (1<<3)\n",
    "print(10 ^ (1<<3))"
   ]
  },
  {
   "cell_type": "code",
   "execution_count": 73,
   "metadata": {},
   "outputs": [
    {
     "name": "stdout",
     "output_type": "stream",
     "text": [
      "0 :\n",
      "1011\n",
      "1 :\n",
      "1000\n",
      "2 :\n",
      "1110\n",
      "3 :\n",
      "0010\n"
     ]
    }
   ],
   "source": [
    "L = 4\n",
    "old_state = 10 #1010\n",
    "z='0'*L\n",
    "# Apply transverse field\n",
    "for site in range(L):\n",
    "    # Flip one-spin at site\n",
    "    print(site,\":\") #从右往左翻转第site个自旋\n",
    "    new_state = old_state ^ (1 << site)\n",
    "    length = len(bin(new_state)[2:])\n",
    "    what = z[0:N-length] + bin(new_state)[2:]\n",
    "    print(what)"
   ]
  },
  {
   "cell_type": "markdown",
   "metadata": {},
   "source": [
    "可以看到利用异或和位移算符的确是可以实现单自旋翻转的"
   ]
  },
  {
   "cell_type": "code",
   "execution_count": 137,
   "metadata": {},
   "outputs": [],
   "source": [
    "N=4\n",
    "dimension=2**N\n",
    "delta = 1\n",
    "Jx = 1\n",
    "#spin chain with all spin-down\n",
    "z='0'*N\n",
    "# initialize hamiltonian\n",
    "H=np.zeros((dimension,dimension))\n",
    "\n",
    "for a in range(dimension):\n",
    "    state_chain = bin(a)[2:]  # 将整数a转换为二进制字符串，忽略前两个字符'0b'\n",
    "    length = len(state_chain)\n",
    "    state_chain = z[0:N-length] + state_chain  # 将二进制字符串的长度补齐至N, z='0'*N\n",
    "    \n",
    "    # 对于周期性边界条件(PBC)，设置i在range(N)\n",
    "    # 对于开放边界条件(OBC)，设置i在range(N-1)\n",
    "    for i in range(N):  #In python, i = 0,1,2,...,N-1\n",
    "        j = np.mod(i + 1, N)  # 对于周期性边界条件，计算j时取余\n",
    "        if state_chain[i] == state_chain[j]:  # 自旋平行贡献为+，自旋相反贡献为-\n",
    "            H[a, a] += 0.25*delta  #aa表示哈密顿量的对角元\n",
    "        else:  \n",
    "            H[a, a] -= 0.25*delta #the element is delta/4\n",
    "            \n",
    "            element_i = state_chain[i] #要么为1要么为0\n",
    "            element_j = state_chain[j] #要么为1要么为0\n",
    "            \n",
    "            # 自旋翻转\n",
    "            if j == 0:\n",
    "                state_chain1 = element_i + state_chain[1:N-1] + element_j\n",
    "            else:\n",
    "                state_chain1 = state_chain[0:i] + element_j + element_i + state_chain[j+1:]\n",
    "            \n",
    "            b = int(state_chain1, 2)\n",
    "            H[a, b] += 0.5\n",
    "            \n",
    "            \n",
    "        # Flip one-spin at site\n",
    "        new_state =  int(state_chain, 2) ^ (1 << i)\n",
    "        c = new_state\n",
    "        H[a, c] += 0.5*Jx # hx/2\n",
    "\n",
    "# delta = 1, hx = 1"
   ]
  },
  {
   "cell_type": "code",
   "execution_count": 161,
   "metadata": {},
   "outputs": [],
   "source": [
    "\n",
    "def get_H(N,delta,Jx):\n",
    "    dimension=2**N\n",
    "    #spin chain with all spin-down\n",
    "    z='0'*N\n",
    "    # initialize hamiltonian\n",
    "    H=np.zeros((dimension,dimension))\n",
    "    \n",
    "    for a in range(dimension):\n",
    "        state_chain = bin(a)[2:]  # 将整数a转换为二进制字符串，忽略前两个字符'0b'\n",
    "        length = len(state_chain)\n",
    "        state_chain = z[0:N-length] + state_chain  # 将二进制字符串的长度补齐至N, z='0'*N\n",
    "        \n",
    "        # 对于周期性边界条件(PBC)，设置i在range(N)\n",
    "        # 对于开放边界条件(OBC)，设置i在range(N-1)\n",
    "        for i in range(N):  #In python, i = 0,1,2,...,N-1\n",
    "            j = np.mod(i + 1, N)  # 对于周期性边界条件，计算j时取余\n",
    "            if state_chain[i] == state_chain[j]:  # 自旋平行贡献为+，自旋相反贡献为-\n",
    "                H[a, a] += 0.25*delta  #aa表示哈密顿量的对角元\n",
    "            else:  \n",
    "                H[a, a] -= 0.25*delta #the element is delta/4\n",
    "                \n",
    "                element_i = state_chain[i] #要么为1要么为0\n",
    "                element_j = state_chain[j] #要么为1要么为0\n",
    "                \n",
    "                # 自旋翻转\n",
    "                if j == 0:\n",
    "                    state_chain1 = element_i + state_chain[1:N-1] + element_j\n",
    "                else:\n",
    "                    state_chain1 = state_chain[0:i] + element_j + element_i + state_chain[j+1:]\n",
    "                \n",
    "                b = int(state_chain1, 2)\n",
    "                H[a, b] += 0.5\n",
    "                \n",
    "                \n",
    "            # Flip one-spin at site\n",
    "            new_state =  int(state_chain, 2) ^ (1 << i)\n",
    "            c = new_state\n",
    "            H[a, c] += 0.5*Jx # hx/2\n",
    "            \n",
    "    return H"
   ]
  },
  {
   "cell_type": "code",
   "execution_count": 130,
   "metadata": {},
   "outputs": [],
   "source": [
    "N=8     # length of chain, keep it smaller than ~16, :-)\n",
    "delta=-2      # strength of Heisenberg interaction\n",
    "hx = 0\n",
    "\n",
    "xishu = np.array([])\n",
    "E = np.array([])\n",
    "\n",
    "for i in range(int(4/0.01)+1):\n",
    "    delta += 0.01\n",
    "\n",
    "    hamiltonian = get_H(N,delta,hx)\n",
    "\n",
    "    eigs = np.real(np.linalg.eig(hamiltonian)[0])\n",
    "        \n",
    "    xishu = np.append(xishu,delta)\n",
    "    E = np.append(E, min(eigs)/N)"
   ]
  },
  {
   "cell_type": "code",
   "execution_count": 131,
   "metadata": {},
   "outputs": [
    {
     "data": {
      "image/png": "[encoded data removed]",
      "text/plain": [
       "<Figure size 640x480 with 1 Axes>"
      ]
     },
     "metadata": {},
     "output_type": "display_data"
    }
   ],
   "source": [
    "plt.plot(xishu,E,'-.',color='red')\n",
    "plt.show()"
   ]
  },
  {
   "cell_type": "code",
   "execution_count": 123,
   "metadata": {},
   "outputs": [
    {
     "data": {
      "image/png": "[encoded data removed]",
      "text/plain": [
       "<Figure size 640x480 with 1 Axes>"
      ]
     },
     "metadata": {},
     "output_type": "display_data"
    }
   ],
   "source": [
    "N=8     # length of chain, keep it smaller than ~16, :-)\n",
    "delta=1.0      # strength of Heisenberg interaction\n",
    "hx = 0\n",
    "\n",
    "hengchang = np.array([])\n",
    "E = np.array([])\n",
    "\n",
    "for i in range(120+1):\n",
    "    hx += 0.01\n",
    "\n",
    "    hamiltonian = get_H(N,delta,hx)\n",
    "\n",
    "    eigs = np.real(np.linalg.eig(hamiltonian)[0])\n",
    "    \n",
    "    hengchang = np.append(hengchang,hx)\n",
    "    E = np.append(E, min(eigs)/N)\n",
    "    \n",
    "plt.plot(hengchang,E,'--',color='blue')\n",
    "plt.show()"
   ]
  },
  {
   "cell_type": "code",
   "execution_count": 129,
   "metadata": {},
   "outputs": [
    {
     "data": {
      "text/plain": [
       "array([[2.   , 0.605, 0.605, 0.   , 0.605],\n",
       "       [0.605, 1.   , 0.5  , 0.605, 0.   ],\n",
       "       [0.605, 0.5  , 1.   , 0.605, 0.5  ],\n",
       "       [0.   , 0.605, 0.605, 1.   , 0.   ],\n",
       "       [0.605, 0.   , 0.5  , 0.   , 1.   ]])"
      ]
     },
     "execution_count": 129,
     "metadata": {},
     "output_type": "execute_result"
    }
   ],
   "source": [
    "hamiltonian[0:5,0:5]"
   ]
  },
  {
   "cell_type": "code",
   "execution_count": 142,
   "metadata": {},
   "outputs": [
    {
     "data": {
      "text/plain": [
       "array([[-1.,  0.,  0.,  0.],\n",
       "       [ 0.,  0.,  0.,  0.],\n",
       "       [ 0.,  0.,  0.,  0.],\n",
       "       [ 0.,  0.,  0.,  1.]])"
      ]
     },
     "execution_count": 142,
     "metadata": {},
     "output_type": "execute_result"
    }
   ],
   "source": [
    "eig_value=np.real(np.linalg.eig(H)[0])# eigen_values\n",
    "eig_vec=np.real(np.linalg.eig(H)[1])\n",
    "\n",
    "matrix_U=np.zeros((dimension,dimension)) #mat_U\n",
    "matrix_Udag=np.zeros((dimension,dimension))\n",
    "for i in range(dimension):\n",
    "    matrix_U[:,i]=eig_vec[:,i].reshape(dimension)\n",
    "    matrix_Udag[i,:]=np.conj(eig_vec[:,i].reshape(dimension))\n",
    "\n",
    "\n",
    "mat_Sz=np.zeros((dimension,dimension))\n",
    "mat_S2=np.zeros((dimension,dimension))\n",
    "\n",
    "\n",
    "for a in range(dimension):\n",
    "    state_chain=bin(a)[2:] # the first two should be omitted for this 'bin' function\n",
    "    l=len(state_chain)\n",
    "    state_chain=z[0:N-l]+state_chain #make the length equal to N\n",
    "    up_number=state_chain.count('1')\n",
    "    down_number=N-up_number\n",
    "    mat_Sz[a,a]=0.5*up_number-0.5*down_number\n",
    "\n",
    "mat_Sz           # this measurement is written for N=2 only"
   ]
  },
  {
   "cell_type": "code",
   "execution_count": 143,
   "metadata": {},
   "outputs": [
    {
     "data": {
      "text/plain": [
       "[0.0, 0.0, -1.0, 1.0]"
      ]
     },
     "execution_count": 143,
     "metadata": {},
     "output_type": "execute_result"
    }
   ],
   "source": [
    "mz_list=[]\n",
    "for i in range(dimension):\n",
    "    mz_list.append(np.dot(np.dot(matrix_Udag,mat_Sz),matrix_U)[i,i])#measure\n",
    "    \n",
    "mz_list"
   ]
  },
  {
   "cell_type": "code",
   "execution_count": 155,
   "metadata": {},
   "outputs": [
    {
     "data": {
      "text/plain": [
       "-2.871446460697043e-32"
      ]
     },
     "execution_count": 155,
     "metadata": {},
     "output_type": "execute_result"
    }
   ],
   "source": [
    "eig_value=np.real(np.linalg.eig(H)[0])# eigen_values\n",
    "eig_vec=np.real(np.linalg.eig(H)[1])  # eigenstates\n",
    "# ground state wave function\n",
    "idx_sorted1 = np.argsort(eig_value)\n",
    "eig_value=eig_value[idx_sorted1]\n",
    "eig_vec=eig_vec[:,idx_sorted1]\n",
    "eig_value[0], eig_vec[:,0]\n",
    "groundstate = eig_vec[:,0]\n",
    "\n",
    "mat_Sz=np.zeros((dimension,dimension))\n",
    "mat_S2=np.zeros((dimension,dimension))\n",
    "\n",
    "\n",
    "for a in range(dimension):\n",
    "    state_chain=bin(a)[2:] # the first two should be omitted for this 'bin' function\n",
    "    l=len(state_chain)\n",
    "    state_chain=z[0:N-l]+state_chain #make the length equal to N\n",
    "    up_number=state_chain.count('1')\n",
    "    down_number=N-up_number\n",
    "    mat_Sz[a,a]=0.5*up_number-0.5*down_number\n",
    "\n",
    "# mz_list=[]\n",
    "mz_list = np.dot(groundstate,np.dot(mat_Sz,groundstate))\n",
    "# for i in range(dimension):\n",
    "#     mz_list.append(np.dot(np.dot(matrix_Udag,mat_Sz),matrix_U)[i,i])#measure\n",
    "    \n",
    "mz_list"
   ]
  },
  {
   "cell_type": "code",
   "execution_count": 156,
   "metadata": {},
   "outputs": [
    {
     "data": {
      "text/plain": [
       "2.0000000000000004"
      ]
     },
     "execution_count": 156,
     "metadata": {},
     "output_type": "execute_result"
    }
   ],
   "source": [
    "ABSmat_Sz=np.zeros((dimension,dimension))\n",
    "\n",
    "for a in range(dimension):\n",
    "    state_chain=bin(a)[2:] # the first two should be omitted for this 'bin' function\n",
    "    l=len(state_chain)\n",
    "    state_chain=z[0:N-l]+state_chain #make the length equal to N\n",
    "    up_number=state_chain.count('1')\n",
    "    down_number=N-up_number\n",
    "    ABSmat_Sz[a,a]=0.5*up_number+0.5*down_number\n",
    "\n",
    "mz_list = np.dot(groundstate,np.dot(ABSmat_Sz,groundstate))\n",
    "\n",
    "mz_list"
   ]
  },
  {
   "cell_type": "code",
   "execution_count": 168,
   "metadata": {},
   "outputs": [
    {
     "data": {
      "image/png": "[encoded data removed]",
      "text/plain": [
       "<Figure size 640x480 with 1 Axes>"
      ]
     },
     "metadata": {},
     "output_type": "display_data"
    }
   ],
   "source": [
    "N=4     # length of chain, keep it smaller than ~16, :-)\n",
    "delta=0.1      # strength of Heisenberg interaction\n",
    "hx = 0\n",
    "\n",
    "hengchang = np.array([])\n",
    "mz_list = np.array([])\n",
    "\n",
    "for i in range(120+1):\n",
    "    hx += 0.01\n",
    "\n",
    "    hamiltonian = get_H(N,delta,hx)\n",
    "\n",
    "    eigs = np.real(np.linalg.eig(hamiltonian)[0])\n",
    "    eig_vec=np.real(np.linalg.eig(hamiltonian)[1])  # eigenstates\n",
    "    # ground state wave function\n",
    "    idx_sorted1 = np.argsort(eig_value)\n",
    "    eig_value=eig_value[idx_sorted1]\n",
    "    eig_vec=eig_vec[:,idx_sorted1]\n",
    "    eig_value[0], eig_vec[:,0]\n",
    "    groundstate = eig_vec[:,0]\n",
    "    \n",
    "    ABSmat_Sz=np.zeros((dimension,dimension))\n",
    "\n",
    "    for a in range(dimension):\n",
    "        state_chain=bin(a)[2:] # the first two should be omitted for this 'bin' function\n",
    "        l=len(state_chain)\n",
    "        state_chain=z[0:N-l]+state_chain #make the length equal to N\n",
    "        up_number=state_chain.count('1')\n",
    "        down_number=N-up_number\n",
    "        ABSmat_Sz[a,a]=0.5*up_number+0.5*down_number\n",
    "    \n",
    "    mz = np.dot(groundstate,np.dot(ABSmat_Sz,groundstate))\n",
    "    \n",
    "    \n",
    "    hengchang = np.append(hengchang,hx)\n",
    "    mz_list = np.append(mz_list, mz)\n",
    "    \n",
    "plt.plot(hengchang,mz_list,'--',color='blue')\n",
    "plt.show()"
   ]
  }
 ],
 "metadata": {
  "kernelspec": {
   "display_name": "base",
   "language": "python",
   "name": "python3"
  },
  "language_info": {
   "codemirror_mode": {
    "name": "ipython",
    "version": 3
   },
   "file_extension": ".py",
   "mimetype": "text/x-python",
   "name": "python",
   "nbconvert_exporter": "python",
   "pygments_lexer": "ipython3",
   "version": "3.11.5"
  }
 },
 "nbformat": 4,
 "nbformat_minor": 2
}
